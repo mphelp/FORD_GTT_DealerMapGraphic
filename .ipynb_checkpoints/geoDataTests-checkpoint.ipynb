{
 "cells": [
  {
   "cell_type": "markdown",
   "metadata": {},
   "source": [
    "# Import Packages and Manage Proxies"
   ]
  },
  {
   "cell_type": "code",
   "execution_count": 1,
   "metadata": {},
   "outputs": [],
   "source": [
    "import os\n",
    "os.environ['http_proxy'] = \"proxyvipfmcc.nb.ford.com:83\"\n",
    "os.environ['https_proxy'] = \"proxyvipfmcc.nb.ford.com:83\""
   ]
  },
  {
   "cell_type": "code",
   "execution_count": 315,
   "metadata": {},
   "outputs": [],
   "source": [
    "import plotly.plotly as py\n",
    "import plotly as plotly\n",
    "import plotly.graph_objs as go\n",
    "import sys\n",
    "import jupyter\n",
    "import sympy\n",
    "import notebook\n",
    "import pandas as pd\n",
    "import math\n",
    "from collections import Counter\n",
    "\n",
    "ex_data = pd.read_excel('GTNexus_CityList_20180208.xlsx')\n",
    "results = [c.rstrip() for c in open('results.txt','r')]"
   ]
  },
  {
   "cell_type": "code",
   "execution_count": 414,
   "metadata": {
    "scrolled": true
   },
   "outputs": [],
   "source": [
    "#ex_data.columns"
   ]
  },
  {
   "cell_type": "code",
   "execution_count": 415,
   "metadata": {},
   "outputs": [],
   "source": [
    "# (count, lat, long)\n",
    "cityMap = {'SomeCity': {'Count': 0, 'Lat': 0, 'Long': 0}}\n",
    "for addr in ex_data.values:\n",
    "    if addr[3] == 'United Kingdom':\n",
    "        cityMap[addr[0]] = {'Lat': addr[5], 'Long': addr[6], 'Count': 0}\n",
    "selectCityData = {k: v for k,v in cityMap.items() if k in results}\n",
    "for city in results:\n",
    "    if city:\n",
    "        selectCityData[city]['Count'] += 1\n",
    "#selectCityData"
   ]
  },
  {
   "cell_type": "code",
   "execution_count": 416,
   "metadata": {},
   "outputs": [],
   "source": [
    "# Creds\n",
    "plotly.tools.set_credentials_file(username='mphelp', api_key='4UtNka9DY2maAFt6Pq62')"
   ]
  },
  {
   "cell_type": "code",
   "execution_count": 417,
   "metadata": {},
   "outputs": [],
   "source": [
    "#df = pd.read_csv('data.csv')\n",
    "#df.head()"
   ]
  },
  {
   "cell_type": "code",
   "execution_count": 418,
   "metadata": {
    "scrolled": true
   },
   "outputs": [],
   "source": [
    "#[v['Lat'] for k,v in selectCityData.items()]"
   ]
  },
  {
   "cell_type": "markdown",
   "metadata": {},
   "source": [
    "# Map Data to Figure and Format"
   ]
  },
  {
   "cell_type": "code",
   "execution_count": 474,
   "metadata": {},
   "outputs": [],
   "source": [
    "data = [dict(type = 'scattergeo', locationmode = 'country names', locations='United Kingdom',\n",
    "             lon = [info['Long'] for city, info in selectCityData.items()], \n",
    "             lat = [info['Lat'] for city, info in selectCityData.items()], \n",
    "             text= [(city,info['Count']) for city, info in selectCityData.items()],\n",
    "             marker=dict(size=[6*math.sqrt(info['Count'])-3 for city, info in selectCityData.items()], \n",
    "                         autocolorscale=False, colorscale='Reds', \n",
    "                         color = [info['Count'] for city, info in selectCityData.items()],\n",
    "                         colorbar=dict(title= '# Dealers',len=0.7)))]\n",
    "#[6*math.sqrt(info['Count'])-3 for city, info in selectCityData.items()]"
   ]
  },
  {
   "cell_type": "code",
   "execution_count": 475,
   "metadata": {},
   "outputs": [],
   "source": [
    "layout = dict(title='GTT UK Dealers', geo=dict(scope='europe', projection = dict(type='natural earth'),\n",
    "                                                showland=True, landcolor=\"rgb(160,160,160)\",\n",
    "                                                subunitcolor = \"rgb(100,100,100)\", countrycolor=\"rgb(60,60,60)\",\n",
    "                                                resolution = 50,\n",
    "                                                showcoastlines=True,\n",
    "                                                lonaxis = dict(range=[-18, 8]),\n",
    "                                                lataxis = dict(range=[50, 60]),\n",
    "                                                #domain = dict(x = [-10, 1], y = [-1,1]),\n",
    "                                                countrywidth=0.5, subunitwidth=3) )"
   ]
  },
  {
   "cell_type": "markdown",
   "metadata": {},
   "source": [
    "# Display Results"
   ]
  },
  {
   "cell_type": "code",
   "execution_count": 476,
   "metadata": {},
   "outputs": [
    {
     "data": {
      "text/html": [
       "<iframe id=\"igraph\" scrolling=\"no\" style=\"border:none;\" seamless=\"seamless\" src=\"https://plot.ly/~mphelp/2.embed\" height=\"525px\" width=\"100%\"></iframe>"
      ],
      "text/plain": [
       "<plotly.tools.PlotlyDisplay object>"
      ]
     },
     "execution_count": 476,
     "metadata": {},
     "output_type": "execute_result"
    }
   ],
   "source": [
    "fig = go.Figure(layout=layout, data=data)\n",
    "py.iplot(fig, validate=False, filename='GTT UK Dealer Data Map')"
   ]
  },
  {
   "cell_type": "code",
   "execution_count": null,
   "metadata": {},
   "outputs": [],
   "source": []
  }
 ],
 "metadata": {
  "kernelspec": {
   "display_name": "Python 3",
   "language": "python",
   "name": "python3"
  },
  "language_info": {
   "codemirror_mode": {
    "name": "ipython",
    "version": 3
   },
   "file_extension": ".py",
   "mimetype": "text/x-python",
   "name": "python",
   "nbconvert_exporter": "python",
   "pygments_lexer": "ipython3",
   "version": "3.6.5"
  }
 },
 "nbformat": 4,
 "nbformat_minor": 1
}
